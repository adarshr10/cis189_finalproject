{
 "cells": [
  {
   "cell_type": "code",
   "execution_count": 695,
   "metadata": {},
   "outputs": [],
   "source": [
    "from ortools.sat.python import cp_model\n",
    "import random"
   ]
  },
  {
   "cell_type": "markdown",
   "metadata": {},
   "source": [
    "Make a variable for each nurse patient pair\n",
    "Keep track of the total number of patients each nurse sees\n",
    "Maximize the acuity of each nurse for each patient type\n",
    "Max and min number of patients per nurse\n",
    "Need to create a dictionary for patients so that each type maps to a number of patients"
   ]
  },
  {
   "cell_type": "code",
   "execution_count": 696,
   "metadata": {},
   "outputs": [],
   "source": [
    "from typing import List\n",
    "\n",
    "class NursePatientMatcher:\n",
    "    \n",
    "    def __init__(self, num_patients, num_nurses, max_patients, min_patients, patient_types, acuities, patient_times):\n",
    "        self.p: int = num_patients\n",
    "        self.n: int = num_nurses\n",
    "        self.max_patients_per_nurse: int = max_patients\n",
    "        self.min_patients_per_nurse: int = min_patients\n",
    "        self.patients_of_each_type: List[int] = patient_types\n",
    "        self.patient_nurse_acuities: List[List[int]] = acuities\n",
    "        self.patient_times: List[int] = patient_times"
   ]
  },
  {
   "cell_type": "code",
   "execution_count": 697,
   "metadata": {},
   "outputs": [],
   "source": [
    "def create_variables(self):\n",
    "    model: cp_model.CpModel = self.model\n",
    "    n: int = self.n\n",
    "    p: int = self.p\n",
    "    patients_per_types = self.patients_of_each_type\n",
    "    max_patients: int = self.max_patients_per_nurse\n",
    "    self.x = {}\n",
    "    self.patients_per_nurse = {}\n",
    "    self.patient_types = {}\n",
    "    for nurse in range(n):\n",
    "        for patient in range(p):\n",
    "            self.x[nurse, patient] = model.NewBoolVar(f'x[Nurse: {nurse}, Patient: {patient}]')\n",
    "    \n",
    "    for nurse in range(n):\n",
    "        self.patients_per_nurse[nurse] = model.NewIntVar(0, max_patients, f'Patients for Nurse {nurse}')\n",
    "    \n",
    "    prev = 0\n",
    "    t = 0\n",
    "    for patient in range(p):\n",
    "        num_patients_of_type = patients_per_types[t]\n",
    "        if patient >= prev + num_patients_of_type:\n",
    "            prev = prev + num_patients_of_type\n",
    "            t += 1\n",
    "        self.patient_types[patient] = t\n",
    "    \n",
    "    print(self.patient_times)\n",
    "\n",
    "    self.patients_per_time = {}\n",
    "    for i in range(12):\n",
    "        self.patients_per_time[i] = [patient for patient in range(p) if self.patient_times[patient] == i]\n",
    "\n",
    "\n",
    "    self.nurse_sched = []\n",
    "    for nurse in range(n):\n",
    "        self.nurse_sched.append([model.NewIntVar(0, p, f'Hour {i} for nurse {nurse}') for i in range(12)])\n",
    "            \n",
    "        \n",
    "\n",
    "# Register this method with the solver class\n",
    "NursePatientMatcher.create_variables = create_variables"
   ]
  },
  {
   "cell_type": "code",
   "execution_count": 698,
   "metadata": {},
   "outputs": [],
   "source": [
    "def bound_patients_per_nurse(self):\n",
    "    x = self.x\n",
    "    model: cp_model.CpModel = self.model\n",
    "    n: int = self.n\n",
    "    p: int = self.p\n",
    "    max_patients: int = self.max_patients_per_nurse\n",
    "    min_patients: int = self.min_patients_per_nurse\n",
    "    for nurse in range(n):\n",
    "        model.Add(sum(x[nurse,patient] for patient in range(p)) <= max_patients)\n",
    "        model.Add(sum(x[nurse,patient] for patient in range(p)) >= min_patients)\n",
    "\n",
    "# Register this method with the solver class\n",
    "NursePatientMatcher.bound_patients_per_nurse = bound_patients_per_nurse"
   ]
  },
  {
   "cell_type": "code",
   "execution_count": 699,
   "metadata": {},
   "outputs": [],
   "source": [
    "def one_nurse_per_patient(self):\n",
    "    x = self.x\n",
    "    model: cp_model.CpModel = self.model\n",
    "    n: int = self.n\n",
    "    p: int = self.p\n",
    "    for patient in range(p):\n",
    "        model.Add(sum(x[nurse,patient] for nurse in range(n)) == 1)\n",
    "\n",
    "\n",
    "# Register this method with the solver class\n",
    "NursePatientMatcher.one_nurse_per_patient = one_nurse_per_patient"
   ]
  },
  {
   "cell_type": "code",
   "execution_count": 700,
   "metadata": {},
   "outputs": [],
   "source": [
    "def fill_nurse_schedule(self):\n",
    "    x = self.x\n",
    "    model: cp_model.CpModel = self.model\n",
    "    n: int = self.n\n",
    "    p: int = self.p\n",
    "    nurse_sched = self.nurse_sched\n",
    "    patients_per_time = self.patients_per_time\n",
    "\n",
    "    for nurse in range(n):\n",
    "        for i in range(12):\n",
    "            model.Add(nurse_sched[nurse][i] == sum(x[nurse, patient] for patient in patients_per_time[i]))\n",
    "            model.Add(nurse_sched[nurse][i] <= 1)\n",
    "\n",
    "# Register this method with the solver class\n",
    "NursePatientMatcher.fill_nurse_schedule = fill_nurse_schedule\n",
    "    "
   ]
  },
  {
   "cell_type": "code",
   "execution_count": 701,
   "metadata": {},
   "outputs": [],
   "source": [
    "def track_patients_per_nurse(self):\n",
    "    x = self.x\n",
    "    model: cp_model.CpModel = self.model\n",
    "    n: int = self.n\n",
    "    p: int = self.p\n",
    "    patients_per_nurse = self.patients_per_nurse\n",
    "    for nurse in range(n):\n",
    "        model.Add(sum(x[nurse,patient] for patient in range(p)) == patients_per_nurse[nurse])\n",
    "\n",
    "\n",
    "# Register this method with the solver class\n",
    "NursePatientMatcher.track_patients_per_nurse = track_patients_per_nurse"
   ]
  },
  {
   "cell_type": "code",
   "execution_count": 702,
   "metadata": {},
   "outputs": [],
   "source": [
    "def one_double_shift(self):\n",
    "    x = self.x\n",
    "    model: cp_model.CpModel = self.model\n",
    "    n: int = self.n\n",
    "    nurse_sched = self.nurse_sched\n",
    "\n",
    "    for nurse in range(n):\n",
    "        num_double_tracker = [model.NewBoolVar(f'Double shifts for nurse {nurse}') for _ in range(11)]\n",
    "        for i in range(1, 12):\n",
    "            model.Add((nurse_sched[nurse][i] + nurse_sched[nurse][i-1] == 2)).OnlyEnforceIf(num_double_tracker[i-1])\n",
    "            model.Add((nurse_sched[nurse][i] + nurse_sched[nurse][i-1] < 2)).OnlyEnforceIf(num_double_tracker[i-1].Not())\n",
    "        model.AddExactlyOne(num_double_tracker)\n",
    "\n",
    "\n",
    "# Register this method with the solver class\n",
    "NursePatientMatcher.one_double_shift = one_double_shift"
   ]
  },
  {
   "cell_type": "code",
   "execution_count": 703,
   "metadata": {},
   "outputs": [],
   "source": [
    "def minimize_objectives(self):\n",
    "    x = self.x\n",
    "    model: cp_model.CpModel = self.model\n",
    "    patients_per_nurse = self.patients_per_nurse\n",
    "    n: int = self.n\n",
    "    p: int = self.p\n",
    "    max_patients: int = self.max_patients_per_nurse\n",
    "    acuities = self.patient_nurse_acuities\n",
    "\n",
    "    absolute_diff = [model.NewIntVar(0, max_patients, \"Absolute difference between nurse n workload and average workload\") for _ in range(n)]\n",
    "\n",
    "    for nurse in range(n):\n",
    "        difference = model.NewIntVar(-max_patients, max_patients, 'Difference between nurse n workload and average workload')\n",
    "        model.Add(difference == patients_per_nurse[nurse] - int(p/n))\n",
    "        model.AddAbsEquality(absolute_diff[nurse], difference)\n",
    "    \n",
    "\n",
    "    acuity_score = sum(acuities[nurse][self.patient_types[patient]] * self.x[nurse, patient] for nurse in range(n) for patient in range(p))\n",
    "\n",
    "    model.Minimize(sum(sum(acuities, []))*sum(absolute_diff) - acuity_score)\n",
    "    \n",
    "\n",
    "# Register this method with the solver class\n",
    "NursePatientMatcher.minimize_objectives = minimize_objectives"
   ]
  },
  {
   "cell_type": "code",
   "execution_count": 704,
   "metadata": {},
   "outputs": [],
   "source": [
    "def solve(self):\n",
    "    self.model = cp_model.CpModel()\n",
    "    self.solver = cp_model.CpSolver()\n",
    "    self.create_variables()\n",
    "    self.bound_patients_per_nurse()\n",
    "    self.one_nurse_per_patient()\n",
    "    self.fill_nurse_schedule()\n",
    "    self.track_patients_per_nurse()\n",
    "    self.one_double_shift()\n",
    "    self.minimize_objectives()\n",
    "    if self.solver.Solve(self.model) == cp_model.OPTIMAL:\n",
    "        for nurse in range(self.n):\n",
    "            print(f'Patients for nurse {nurse}: {self.solver.Value(self.patients_per_nurse[nurse])}')\n",
    "            for i in range(12):\n",
    "                print(f'{self.solver.Value(self.nurse_sched[nurse][i])}', end=' ')\n",
    "            print()\n",
    "        \n",
    "    else:   \n",
    "        raise ValueError('Modeling error!')\n",
    "\n",
    "# Register this method with the solver class\n",
    "NursePatientMatcher.solve = solve"
   ]
  },
  {
   "cell_type": "code",
   "execution_count": 705,
   "metadata": {},
   "outputs": [],
   "source": [
    "def read_data_and_solve(path):\n",
    "    with open(path) as f:\n",
    "        lines = f.readlines()\n",
    "        num_nurses, num_patients, num_patient_types = lines[0].split(' ')\n",
    "        num_nurses, num_patients, num_patient_types = int(num_nurses), int(num_patients), int(num_patient_types)\n",
    "\n",
    "        min_patients, max_patients = lines[1].split(' ')\n",
    "        min_patients, max_patients = int(min_patients), int(max_patients)\n",
    "\n",
    "        patient_types = lines[3].strip().split(' ')\n",
    "        patient_types = [int(x) for x in patient_types]\n",
    "\n",
    "        acuities = []\n",
    "        for i in range(num_nurses):\n",
    "            nurse_acuities = lines[5 + i].strip().split(' ')\n",
    "            acuities.append([int(x) for x in nurse_acuities])\n",
    "    # patient_times = [5, 3, 11, 5, 3, 9, 2, 1, 9, 10, 6, 7, 8, 11, 0, 0, 5]\n",
    "\n",
    "    patient_times = []\n",
    "    for _ in range(num_patients):\n",
    "        patient_times.append(random.randint(0,11))\n",
    "\n",
    "    matcher = NursePatientMatcher(num_patients, num_nurses, max_patients, min_patients, patient_types, acuities, patient_times)\n",
    "    soln = matcher.solve()"
   ]
  },
  {
   "cell_type": "code",
   "execution_count": 706,
   "metadata": {},
   "outputs": [
    {
     "name": "stdout",
     "output_type": "stream",
     "text": [
      "[11, 6, 11, 0, 3, 5, 8, 8, 11, 2, 0, 3, 8, 8, 11, 4, 4]\n"
     ]
    },
    {
     "ename": "AttributeError",
     "evalue": "'CpModel' object has no attribute 'AddExactlyOne'",
     "output_type": "error",
     "traceback": [
      "\u001b[0;31m---------------------------------------------------------------------------\u001b[0m",
      "\u001b[0;31mAttributeError\u001b[0m                            Traceback (most recent call last)",
      "\u001b[1;32m/Users/Adarshr/cis189/Project/nurse_balancing.ipynb Cell 13'\u001b[0m in \u001b[0;36m<cell line: 1>\u001b[0;34m()\u001b[0m\n\u001b[0;32m----> <a href='vscode-notebook-cell:/Users/Adarshr/cis189/Project/nurse_balancing.ipynb#ch0000013?line=0'>1</a>\u001b[0m read_data_and_solve(\u001b[39m'\u001b[39;49m\u001b[39mdata/3nurse5patientType0.txt\u001b[39;49m\u001b[39m'\u001b[39;49m)\n",
      "\u001b[1;32m/Users/Adarshr/cis189/Project/nurse_balancing.ipynb Cell 12'\u001b[0m in \u001b[0;36mread_data_and_solve\u001b[0;34m(path)\u001b[0m\n\u001b[1;32m     <a href='vscode-notebook-cell:/Users/Adarshr/cis189/Project/nurse_balancing.ipynb#ch0000014?line=20'>21</a>\u001b[0m     patient_times\u001b[39m.\u001b[39mappend(random\u001b[39m.\u001b[39mrandint(\u001b[39m0\u001b[39m,\u001b[39m11\u001b[39m))\n\u001b[1;32m     <a href='vscode-notebook-cell:/Users/Adarshr/cis189/Project/nurse_balancing.ipynb#ch0000014?line=22'>23</a>\u001b[0m matcher \u001b[39m=\u001b[39m NursePatientMatcher(num_patients, num_nurses, max_patients, min_patients, patient_types, acuities, patient_times)\n\u001b[0;32m---> <a href='vscode-notebook-cell:/Users/Adarshr/cis189/Project/nurse_balancing.ipynb#ch0000014?line=23'>24</a>\u001b[0m soln \u001b[39m=\u001b[39m matcher\u001b[39m.\u001b[39;49msolve()\n",
      "\u001b[1;32m/Users/Adarshr/cis189/Project/nurse_balancing.ipynb Cell 11'\u001b[0m in \u001b[0;36msolve\u001b[0;34m(self)\u001b[0m\n\u001b[1;32m      <a href='vscode-notebook-cell:/Users/Adarshr/cis189/Project/nurse_balancing.ipynb#ch0000010?line=6'>7</a>\u001b[0m \u001b[39mself\u001b[39m\u001b[39m.\u001b[39mfill_nurse_schedule()\n\u001b[1;32m      <a href='vscode-notebook-cell:/Users/Adarshr/cis189/Project/nurse_balancing.ipynb#ch0000010?line=7'>8</a>\u001b[0m \u001b[39mself\u001b[39m\u001b[39m.\u001b[39mtrack_patients_per_nurse()\n\u001b[0;32m----> <a href='vscode-notebook-cell:/Users/Adarshr/cis189/Project/nurse_balancing.ipynb#ch0000010?line=8'>9</a>\u001b[0m \u001b[39mself\u001b[39;49m\u001b[39m.\u001b[39;49mone_double_shift()\n\u001b[1;32m     <a href='vscode-notebook-cell:/Users/Adarshr/cis189/Project/nurse_balancing.ipynb#ch0000010?line=9'>10</a>\u001b[0m \u001b[39mself\u001b[39m\u001b[39m.\u001b[39mminimize_objectives()\n\u001b[1;32m     <a href='vscode-notebook-cell:/Users/Adarshr/cis189/Project/nurse_balancing.ipynb#ch0000010?line=10'>11</a>\u001b[0m \u001b[39mif\u001b[39;00m \u001b[39mself\u001b[39m\u001b[39m.\u001b[39msolver\u001b[39m.\u001b[39mSolve(\u001b[39mself\u001b[39m\u001b[39m.\u001b[39mmodel) \u001b[39m==\u001b[39m cp_model\u001b[39m.\u001b[39mOPTIMAL:\n",
      "\u001b[1;32m/Users/Adarshr/cis189/Project/nurse_balancing.ipynb Cell 9'\u001b[0m in \u001b[0;36mone_double_shift\u001b[0;34m(self)\u001b[0m\n\u001b[1;32m     <a href='vscode-notebook-cell:/Users/Adarshr/cis189/Project/nurse_balancing.ipynb#ch0000018?line=9'>10</a>\u001b[0m     model\u001b[39m.\u001b[39mAdd((nurse_sched[nurse][i] \u001b[39m+\u001b[39m nurse_sched[nurse][i\u001b[39m-\u001b[39m\u001b[39m1\u001b[39m] \u001b[39m==\u001b[39m \u001b[39m2\u001b[39m))\u001b[39m.\u001b[39mOnlyEnforceIf(num_double_tracker[i\u001b[39m-\u001b[39m\u001b[39m1\u001b[39m])\n\u001b[1;32m     <a href='vscode-notebook-cell:/Users/Adarshr/cis189/Project/nurse_balancing.ipynb#ch0000018?line=10'>11</a>\u001b[0m     model\u001b[39m.\u001b[39mAdd((nurse_sched[nurse][i] \u001b[39m+\u001b[39m nurse_sched[nurse][i\u001b[39m-\u001b[39m\u001b[39m1\u001b[39m] \u001b[39m<\u001b[39m \u001b[39m2\u001b[39m))\u001b[39m.\u001b[39mOnlyEnforceIf(num_double_tracker[i\u001b[39m-\u001b[39m\u001b[39m1\u001b[39m]\u001b[39m.\u001b[39mNot())\n\u001b[0;32m---> <a href='vscode-notebook-cell:/Users/Adarshr/cis189/Project/nurse_balancing.ipynb#ch0000018?line=11'>12</a>\u001b[0m model\u001b[39m.\u001b[39;49mAddExactlyOne(num_double_tracker)\n",
      "\u001b[0;31mAttributeError\u001b[0m: 'CpModel' object has no attribute 'AddExactlyOne'"
     ]
    }
   ],
   "source": [
    "read_data_and_solve('data/3nurse5patientType0.txt')"
   ]
  }
 ],
 "metadata": {
  "interpreter": {
   "hash": "738e21e1ab4246c4aef01f901d951588f8eec983650f945f5a9665cbb91cca43"
  },
  "kernelspec": {
   "display_name": "Python 3.9.10 64-bit ('3.9.10')",
   "language": "python",
   "name": "python3"
  },
  "language_info": {
   "codemirror_mode": {
    "name": "ipython",
    "version": 3
   },
   "file_extension": ".py",
   "mimetype": "text/x-python",
   "name": "python",
   "nbconvert_exporter": "python",
   "pygments_lexer": "ipython3",
   "version": "3.9.10"
  },
  "orig_nbformat": 4
 },
 "nbformat": 4,
 "nbformat_minor": 2
}
