{
 "cells": [
  {
   "cell_type": "code",
   "execution_count": null,
   "metadata": {},
   "outputs": [],
   "source": [
    "# from ortools.sat.python import cp_model\n",
    "from ortools.linear_solver.pywraplp import Solver"
   ]
  },
  {
   "cell_type": "markdown",
   "metadata": {},
   "source": [
    "Make a variable for each nurse patient pair\n",
    "Keep track of the total number of patients each nurse sees\n",
    "Maximize the acuity of each nurse for each patient type\n",
    "Max and min number of patients per nurse\n",
    "Need to create a dictionary for patients so that each type maps to a number of patients"
   ]
  },
  {
   "cell_type": "code",
   "execution_count": null,
   "metadata": {},
   "outputs": [],
   "source": [
    "from typing import List\n",
    "\n",
    "class NursePatientMatcher:\n",
    "    \n",
    "    def __init__(self, num_patients, num_nurses, max_patients, min_patients, patient_types, acuities):\n",
    "        self.p: int = num_patients\n",
    "        self.n: int = num_nurses\n",
    "        self.max_patients_per_nurse: int = max_patients\n",
    "        self.min_patients_per_nurse: int = min_patients\n",
    "        self.patients_of_each_type: List[int] = patient_types\n",
    "        self.patient_nurse_acuities: List[List[int]] = acuities"
   ]
  },
  {
   "cell_type": "code",
   "execution_count": null,
   "metadata": {},
   "outputs": [],
   "source": [
    "def create_variables(self):\n",
    "    model: Solver = self.model\n",
    "    n: int = self.n\n",
    "    p: int = self.p\n",
    "    patient_types = self.patients_of_each_type\n",
    "    max_patients: int = self.max_patients_per_nurse\n",
    "    self.x = {}\n",
    "    self.patients_per_nurse = {}\n",
    "    self.patient_types = {}\n",
    "    for nurse in range(n):\n",
    "        for patient in range(p):\n",
    "            self.x[nurse, patient] = model.IntVar(0, 1, f'x[Nurse: {nurse}, Patient: {patient}]')\n",
    "    \n",
    "    for nurse in range(n):\n",
    "        self.patients_per_nurse[nurse] = model.IntVar(0, max_patients, f'Patients for Nurse {nurse}')\n",
    "    \n",
    "    prev = 0\n",
    "    for t in range(patient_types):\n",
    "        num_patients = patient_types[t]\n",
    "        self.patient_types[t] = set(range(prev, prev + num_patients))\n",
    "        prev = prev + num_patients\n",
    "\n",
    "# Register this method with the solver class\n",
    "NursePatientMatcher.create_variables = create_variables"
   ]
  },
  {
   "cell_type": "code",
   "execution_count": null,
   "metadata": {},
   "outputs": [],
   "source": [
    "def bound_patients_per_nurse(self):\n",
    "    x = self.x\n",
    "    model: Solver = self.model\n",
    "    n: int = self.n\n",
    "    p: int = self.p\n",
    "    max_patients: int = self.max_patients_per_nurse\n",
    "    min_patients: int = self.min_patients_per_nurse\n",
    "    for nurse in range(n):\n",
    "        model.Add(sum(x[nurse,patient] for patient in range(p)) <= max_patients)\n",
    "        model.Add(sum(x[nurse,patient] for patient in range(p)) >= min_patients)\n",
    "\n",
    "# Register this method with the solver class\n",
    "NursePatientMatcher.bound_patients_per_nurse = bound_patients_per_nurse"
   ]
  },
  {
   "cell_type": "code",
   "execution_count": null,
   "metadata": {},
   "outputs": [],
   "source": [
    "def one_nurse_per_patient(self):\n",
    "    x = self.x\n",
    "    model: Solver = self.model\n",
    "    n: int = self.n\n",
    "    p: int = self.p\n",
    "    for patient in range(p):\n",
    "        model.Add(sum(x[nurse,patient] for nurse in range(n)) == 1)\n",
    "\n",
    "\n",
    "# Register this method with the solver class\n",
    "NursePatientMatcher.one_nurse_per_patient = one_nurse_per_patient"
   ]
  },
  {
   "cell_type": "code",
   "execution_count": null,
   "metadata": {},
   "outputs": [],
   "source": [
    "def track_patients_per_nurse(self):\n",
    "    x = self.x\n",
    "    model: Solver = self.model\n",
    "    n: int = self.n\n",
    "    p: int = self.p\n",
    "    patients_per_nurse = self.patients_per_nurse\n",
    "    for nurse in range(n):\n",
    "        model.Add(sum(x[nurse,patient] for patient in range(p)) == patients_per_nurse[nurse])\n",
    "\n",
    "\n",
    "# Register this method with the solver class\n",
    "NursePatientMatcher.track_patients_per_nurse = track_patients_per_nurse"
   ]
  }
 ],
 "metadata": {
  "language_info": {
   "name": "python"
  },
  "orig_nbformat": 4
 },
 "nbformat": 4,
 "nbformat_minor": 2
}
