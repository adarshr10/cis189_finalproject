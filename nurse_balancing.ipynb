{
 "cells": [
  {
   "cell_type": "code",
   "execution_count": 312,
   "metadata": {},
   "outputs": [],
   "source": [
    "from ortools.sat.python import cp_model\n",
    "import random"
   ]
  },
  {
   "cell_type": "markdown",
   "metadata": {},
   "source": [
    "Make a variable for each nurse patient pair\n",
    "Keep track of the total number of patients each nurse sees\n",
    "Maximize the acuity of each nurse for each patient type\n",
    "Max and min number of patients per nurse\n",
    "Need to create a dictionary for patients so that each type maps to a number of patients"
   ]
  },
  {
   "cell_type": "code",
   "execution_count": 313,
   "metadata": {},
   "outputs": [],
   "source": [
    "from typing import List\n",
    "\n",
    "class NursePatientMatcher:\n",
    "    \n",
    "    def __init__(self, num_patients, num_nurses, max_patients, min_patients, patient_types, acuities):\n",
    "        self.p: int = num_patients\n",
    "        self.n: int = num_nurses\n",
    "        self.max_patients_per_nurse: int = max_patients\n",
    "        self.min_patients_per_nurse: int = min_patients\n",
    "        self.patients_of_each_type: List[int] = patient_types\n",
    "        self.patient_nurse_acuities: List[List[int]] = acuities"
   ]
  },
  {
   "cell_type": "code",
   "execution_count": 314,
   "metadata": {},
   "outputs": [],
   "source": [
    "def create_variables(self):\n",
    "    model: cp_model.CpModel = self.model\n",
    "    n: int = self.n\n",
    "    p: int = self.p\n",
    "    patients_per_types = self.patients_of_each_type\n",
    "    max_patients: int = self.max_patients_per_nurse\n",
    "    self.x = {}\n",
    "    self.patients_per_nurse = {}\n",
    "    self.patient_types = {}\n",
    "    for nurse in range(n):\n",
    "        for patient in range(p):\n",
    "            self.x[nurse, patient] = model.NewBoolVar(f'x[Nurse: {nurse}, Patient: {patient}]')\n",
    "    \n",
    "    for nurse in range(n):\n",
    "        self.patients_per_nurse[nurse] = model.NewIntVar(0, max_patients, f'Patients for Nurse {nurse}')\n",
    "    \n",
    "    prev = 0\n",
    "    t = 0\n",
    "    for patient in range(p):\n",
    "        num_patients_of_type = patients_per_types[t]\n",
    "        if patient >= prev + num_patients_of_type:\n",
    "            prev = prev + num_patients_of_type\n",
    "            t += 1\n",
    "        self.patient_types[patient] = t\n",
    "\n",
    "    self.patient_times = []\n",
    "    for patient in range(p):\n",
    "        self.patient_times.append(random.randint(0,11))\n",
    "    \n",
    "    print(self.patient_times)\n",
    "\n",
    "    self.patients_per_time = {}\n",
    "    for i in range(12):\n",
    "        self.patients_per_time[i] = [patient for patient in range(p) if self.patient_times[patient] == i]\n",
    "\n",
    "\n",
    "    self.nurse_sched = []\n",
    "    for nurse in range(n):\n",
    "        self.nurse_sched.append([model.NewIntVar(0, p, f'Hour {i} for nurse {nurse}') for i in range(12)])\n",
    "            \n",
    "        \n",
    "\n",
    "# Register this method with the solver class\n",
    "NursePatientMatcher.create_variables = create_variables"
   ]
  },
  {
   "cell_type": "code",
   "execution_count": 315,
   "metadata": {},
   "outputs": [],
   "source": [
    "def bound_patients_per_nurse(self):\n",
    "    x = self.x\n",
    "    model: cp_model.CpModel = self.model\n",
    "    n: int = self.n\n",
    "    p: int = self.p\n",
    "    max_patients: int = self.max_patients_per_nurse\n",
    "    min_patients: int = self.min_patients_per_nurse\n",
    "    for nurse in range(n):\n",
    "        model.Add(sum(x[nurse,patient] for patient in range(p)) <= max_patients)\n",
    "        model.Add(sum(x[nurse,patient] for patient in range(p)) >= min_patients)\n",
    "\n",
    "# Register this method with the solver class\n",
    "NursePatientMatcher.bound_patients_per_nurse = bound_patients_per_nurse"
   ]
  },
  {
   "cell_type": "code",
   "execution_count": 316,
   "metadata": {},
   "outputs": [],
   "source": [
    "def one_nurse_per_patient(self):\n",
    "    x = self.x\n",
    "    model: cp_model.CpModel = self.model\n",
    "    n: int = self.n\n",
    "    p: int = self.p\n",
    "    for patient in range(p):\n",
    "        model.Add(sum(x[nurse,patient] for nurse in range(n)) == 1)\n",
    "\n",
    "\n",
    "# Register this method with the solver class\n",
    "NursePatientMatcher.one_nurse_per_patient = one_nurse_per_patient"
   ]
  },
  {
   "cell_type": "code",
   "execution_count": 317,
   "metadata": {},
   "outputs": [],
   "source": [
    "def fill_nurse_schedule(self):\n",
    "    x = self.x\n",
    "    model: cp_model.CpModel = self.model\n",
    "    n: int = self.n\n",
    "    p: int = self.p\n",
    "    nurse_sched = self.nurse_sched\n",
    "    patients_per_time = self.patients_per_time\n",
    "\n",
    "    for nurse in range(n):\n",
    "        for i in range(12):\n",
    "            model.Add(nurse_sched[nurse][i] == sum(x[nurse, patient] for patient in patients_per_time[i]))\n",
    "            model.Add(nurse_sched[nurse][i] <= 1)\n",
    "\n",
    "# Register this method with the solver class\n",
    "NursePatientMatcher.fill_nurse_schedule = fill_nurse_schedule\n",
    "    "
   ]
  },
  {
   "cell_type": "code",
   "execution_count": 318,
   "metadata": {},
   "outputs": [],
   "source": [
    "def track_patients_per_nurse(self):\n",
    "    x = self.x\n",
    "    model: cp_model.CpModel = self.model\n",
    "    n: int = self.n\n",
    "    p: int = self.p\n",
    "    patients_per_nurse = self.patients_per_nurse\n",
    "    for nurse in range(n):\n",
    "        model.Add(sum(x[nurse,patient] for patient in range(p)) == patients_per_nurse[nurse])\n",
    "\n",
    "\n",
    "# Register this method with the solver class\n",
    "NursePatientMatcher.track_patients_per_nurse = track_patients_per_nurse"
   ]
  },
  {
   "cell_type": "code",
   "execution_count": 319,
   "metadata": {},
   "outputs": [],
   "source": [
    "def minimize_objectives(self):\n",
    "    x = self.x\n",
    "    model: cp_model.CpModel = self.model\n",
    "    patients_per_nurse = self.patients_per_nurse\n",
    "    n: int = self.n\n",
    "    p: int = self.p\n",
    "    max_patients: int = self.max_patients_per_nurse\n",
    "    acuities = self.patient_nurse_acuities\n",
    "\n",
    "    absolute_diff = [model.NewIntVar(0, max_patients, \"Absolute difference between nurse n workload and average workload\") for _ in range(n)]\n",
    "\n",
    "    for nurse in range(n):\n",
    "        difference = model.NewIntVar(-max_patients, max_patients, 'Difference between nurse n workload and average workload')\n",
    "        model.Add(difference == patients_per_nurse[nurse] - int(p/n))\n",
    "        model.AddAbsEquality(absolute_diff[nurse], difference)\n",
    "    \n",
    "\n",
    "    acuity_score = sum(acuities[nurse][self.patient_types[patient]] * self.x[nurse, patient] for nurse in range(n) for patient in range(p))\n",
    "\n",
    "    model.Minimize(sum(sum(acuities, []))*sum(absolute_diff) - acuity_score)\n",
    "    \n",
    "\n",
    "# Register this method with the solver class\n",
    "NursePatientMatcher.minimize_objectives = minimize_objectives"
   ]
  },
  {
   "cell_type": "code",
   "execution_count": 320,
   "metadata": {},
   "outputs": [],
   "source": [
    "def solve(self):\n",
    "    self.model = cp_model.CpModel()\n",
    "    self.solver = cp_model.CpSolver()\n",
    "    self.create_variables()\n",
    "    self.bound_patients_per_nurse()\n",
    "    self.one_nurse_per_patient()\n",
    "    self.fill_nurse_schedule()\n",
    "    self.track_patients_per_nurse()\n",
    "    self.minimize_objectives()\n",
    "    if self.solver.Solve(self.model) == cp_model.OPTIMAL:\n",
    "        for nurse in range(self.n):\n",
    "            print(f'Patients for nurse {nurse}: {self.solver.Value(self.patients_per_nurse[nurse])}')\n",
    "            for i in range(12):\n",
    "                print(f'{self.solver.Value(self.nurse_sched[nurse][i])}', end=' ')\n",
    "            print()\n",
    "        \n",
    "    else:   \n",
    "        raise ValueError('Modeling error!')\n",
    "\n",
    "# Register this method with the solver class\n",
    "NursePatientMatcher.solve = solve"
   ]
  },
  {
   "cell_type": "code",
   "execution_count": 321,
   "metadata": {},
   "outputs": [],
   "source": [
    "def read_data_and_solve(path):\n",
    "    with open(path) as f:\n",
    "        lines = f.readlines()\n",
    "        num_nurses, num_patients, num_patient_types = lines[0].split(' ')\n",
    "        num_nurses, num_patients, num_patient_types = int(num_nurses), int(num_patients), int(num_patient_types)\n",
    "\n",
    "        min_patients, max_patients = lines[1].split(' ')\n",
    "        min_patients, max_patients = int(min_patients), int(max_patients)\n",
    "\n",
    "        patient_types = lines[3].strip().split(' ')\n",
    "        patient_types = [int(x) for x in patient_types]\n",
    "\n",
    "        acuities = []\n",
    "        for i in range(num_nurses):\n",
    "            nurse_acuities = lines[5 + i].strip().split(' ')\n",
    "            acuities.append([int(x) for x in nurse_acuities])\n",
    "\n",
    "    matcher = NursePatientMatcher(num_patients, num_nurses, max_patients, min_patients, patient_types, acuities)\n",
    "    soln = matcher.solve()"
   ]
  },
  {
   "cell_type": "code",
   "execution_count": 323,
   "metadata": {},
   "outputs": [
    {
     "name": "stdout",
     "output_type": "stream",
     "text": [
      "[6, 6, 8, 8, 10, 4, 9, 1, 7, 1, 8, 1, 0, 11, 8, 9, 5, 9, 10, 10, 6, 5, 1, 0, 1, 11, 8, 3]\n",
      "Patients for nurse 0: 6\n",
      "1 1 0 1 0 0 0 0 1 1 0 1 \n",
      "Patients for nurse 1: 7\n",
      "1 1 0 0 0 1 1 0 1 1 1 0 \n",
      "Patients for nurse 2: 5\n",
      "0 1 0 0 1 0 1 0 1 0 1 0 \n",
      "Patients for nurse 3: 5\n",
      "0 1 0 0 0 0 0 1 1 1 0 1 \n",
      "Patients for nurse 4: 5\n",
      "0 1 0 0 0 1 1 0 1 0 1 0 \n"
     ]
    }
   ],
   "source": [
    "read_data_and_solve('data/5nurse5patientType9.txt')"
   ]
  }
 ],
 "metadata": {
  "interpreter": {
   "hash": "738e21e1ab4246c4aef01f901d951588f8eec983650f945f5a9665cbb91cca43"
  },
  "kernelspec": {
   "display_name": "Python 3.9.10 64-bit ('3.9.10')",
   "language": "python",
   "name": "python3"
  },
  "language_info": {
   "codemirror_mode": {
    "name": "ipython",
    "version": 3
   },
   "file_extension": ".py",
   "mimetype": "text/x-python",
   "name": "python",
   "nbconvert_exporter": "python",
   "pygments_lexer": "ipython3",
   "version": "3.9.10"
  },
  "orig_nbformat": 4
 },
 "nbformat": 4,
 "nbformat_minor": 2
}
