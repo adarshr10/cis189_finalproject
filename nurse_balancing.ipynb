{
 "cells": [
  {
   "cell_type": "code",
   "execution_count": 1,
   "metadata": {},
   "outputs": [],
   "source": [
    "# from ortools.sat.python import cp_model\n",
    "from ortools.linear_solver.pywraplp import Solver"
   ]
  },
  {
   "cell_type": "markdown",
   "metadata": {},
   "source": [
    "Make a variable for each nurse patient pair\n",
    "Keep track of the total number of patients each nurse sees\n",
    "Maximize the acuity of each nurse for each patient type\n",
    "Max and min number of patients per nurse\n",
    "Need to create a dictionary for patients so that each type maps to a number of patients"
   ]
  },
  {
   "cell_type": "code",
   "execution_count": 2,
   "metadata": {},
   "outputs": [],
   "source": [
    "from typing import List\n",
    "\n",
    "class NursePatientMatcher:\n",
    "    \n",
    "    def __init__(self, num_patients, num_nurses, max_patients, min_patients, patient_types, acuities):\n",
    "        self.p: int = num_patients\n",
    "        self.n: int = num_nurses\n",
    "        self.max_patients_per_nurse: int = max_patients\n",
    "        self.min_patients_per_nurse: int = min_patients\n",
    "        self.patients_of_each_type: List[int] = patient_types\n",
    "        self.patient_nurse_acuities: List[List[int]] = acuities"
   ]
  },
  {
   "cell_type": "code",
   "execution_count": 3,
   "metadata": {},
   "outputs": [],
   "source": [
    "def create_variables(self):\n",
    "    model: Solver = self.model\n",
    "    n: int = self.n\n",
    "    p: int = self.p\n",
    "    patient_types = self.patients_of_each_type\n",
    "    max_patients: int = self.max_patients_per_nurse\n",
    "    self.x = {}\n",
    "    self.patients_per_nurse = {}\n",
    "    self.patient_types = {}\n",
    "    for nurse in range(n):\n",
    "        for patient in range(p):\n",
    "            self.x[nurse, patient] = model.IntVar(0, 1, f'x[Nurse: {nurse}, Patient: {patient}]')\n",
    "    \n",
    "    for nurse in range(n):\n",
    "        self.patients_per_nurse[nurse] = model.IntVar(0, max_patients, f'Patients for Nurse {nurse}')\n",
    "    \n",
    "    prev = 0\n",
    "    for t in range(len(patient_types)):\n",
    "        num_patients_of_type = patient_types[t]\n",
    "        self.patient_types[t] = set(range(prev, prev + num_patients_of_type))\n",
    "        prev = prev + num_patients_of_type\n",
    "\n",
    "# Register this method with the solver class\n",
    "NursePatientMatcher.create_variables = create_variables"
   ]
  },
  {
   "cell_type": "code",
   "execution_count": 4,
   "metadata": {},
   "outputs": [],
   "source": [
    "def bound_patients_per_nurse(self):\n",
    "    x = self.x\n",
    "    model: Solver = self.model\n",
    "    n: int = self.n\n",
    "    p: int = self.p\n",
    "    max_patients: int = self.max_patients_per_nurse\n",
    "    min_patients: int = self.min_patients_per_nurse\n",
    "    for nurse in range(n):\n",
    "        model.Add(sum(x[nurse,patient] for patient in range(p)) <= max_patients)\n",
    "        model.Add(sum(x[nurse,patient] for patient in range(p)) >= min_patients)\n",
    "\n",
    "# Register this method with the solver class\n",
    "NursePatientMatcher.bound_patients_per_nurse = bound_patients_per_nurse"
   ]
  },
  {
   "cell_type": "code",
   "execution_count": 5,
   "metadata": {},
   "outputs": [],
   "source": [
    "def one_nurse_per_patient(self):\n",
    "    x = self.x\n",
    "    model: Solver = self.model\n",
    "    n: int = self.n\n",
    "    p: int = self.p\n",
    "    for patient in range(p):\n",
    "        model.Add(sum(x[nurse,patient] for nurse in range(n)) == 1)\n",
    "\n",
    "\n",
    "# Register this method with the solver class\n",
    "NursePatientMatcher.one_nurse_per_patient = one_nurse_per_patient"
   ]
  },
  {
   "cell_type": "code",
   "execution_count": 6,
   "metadata": {},
   "outputs": [],
   "source": [
    "def track_patients_per_nurse(self):\n",
    "    x = self.x\n",
    "    model: Solver = self.model\n",
    "    n: int = self.n\n",
    "    p: int = self.p\n",
    "    patients_per_nurse = self.patients_per_nurse\n",
    "    for nurse in range(n):\n",
    "        model.Add(sum(x[nurse,patient] for patient in range(p)) == patients_per_nurse[nurse])\n",
    "\n",
    "\n",
    "# Register this method with the solver class\n",
    "NursePatientMatcher.track_patients_per_nurse = track_patients_per_nurse"
   ]
  },
  {
   "cell_type": "code",
   "execution_count": 7,
   "metadata": {},
   "outputs": [],
   "source": [
    "def minimize_objectives(self):\n",
    "    x = self.x\n",
    "    model: Solver = self.model\n",
    "    patients_per_nurse = self.patients_per_nurse\n",
    "    n: int = self.n\n",
    "    p: int = self.p\n",
    "    max_patients: int = self.max_patients_per_nurse\n",
    "    min_patients: int = self.min_patients_per_nurse\n",
    "\n",
    "    avg_workload = model.IntVar(min_patients, max_patients, 'Average Workload of Nurses')\n",
    "\n",
    "    model.Add(sum(patients_per_nurse[nurse] for nurse in range(n))/n == avg_workload)\n",
    "\n",
    "    # absolute_diff = [model.IntVar(0, max_patients, \"Absolute difference between nurse n workload and average workload\") for _ in range(n)]\n",
    "\n",
    "    helpers = [model.IntVar(0, max_patients, 'Helper variable to keep things linear') for _ in range(n)]\n",
    "\n",
    "    for nurse in range(n):\n",
    "        # difference = model.IntVar(-max_patients, max_patients, 'Difference between nurse n workload and average workload')\n",
    "        # model.Add(difference == patients_per_nurse[nurse] - avg_workload)\n",
    "        model.Add(helpers[nurse] >= patients_per_nurse[nurse] - avg_workload)\n",
    "        model.Add(helpers[nurse] <= -(patients_per_nurse[nurse] - avg_workload))\n",
    "    \n",
    "    model.Minimize(sum(helpers))\n",
    "    \n",
    "\n",
    "# Register this method with the solver class\n",
    "NursePatientMatcher.minimize_objectives = minimize_objectives"
   ]
  },
  {
   "cell_type": "code",
   "execution_count": 8,
   "metadata": {},
   "outputs": [],
   "source": [
    "def solve(self):\n",
    "    self.model = Solver('NursePatientMatcher', Solver.CBC_MIXED_INTEGER_PROGRAMMING)\n",
    "    self.create_variables()\n",
    "    self.bound_patients_per_nurse()\n",
    "    self.one_nurse_per_patient()\n",
    "    self.track_patients_per_nurse()\n",
    "        \n",
    "    self.minimize_objectives()\n",
    "    if self.model.Solve() == Solver.OPTIMAL:\n",
    "        print('optimal')\n",
    "    else:   \n",
    "        raise ValueError('Modeling error!')\n",
    "\n",
    "# Register this method with the solver class\n",
    "NursePatientMatcher.solve = solve"
   ]
  },
  {
   "cell_type": "code",
   "execution_count": 9,
   "metadata": {},
   "outputs": [
    {
     "ename": "Error",
     "evalue": "Canceled future for execute_request message before replies were done",
     "output_type": "error",
     "traceback": [
      "Error: Canceled future for execute_request message before replies were done",
      "at t.KernelShellFutureHandler.dispose (/Users/Adarshr/.vscode/extensions/ms-toolsai.jupyter-2022.3.1000901801/out/extension.js:2:1204175)",
      "at /Users/Adarshr/.vscode/extensions/ms-toolsai.jupyter-2022.3.1000901801/out/extension.js:2:1223227",
      "at Map.forEach (<anonymous>)",
      "at v._clearKernelState (/Users/Adarshr/.vscode/extensions/ms-toolsai.jupyter-2022.3.1000901801/out/extension.js:2:1223212)",
      "at v.dispose (/Users/Adarshr/.vscode/extensions/ms-toolsai.jupyter-2022.3.1000901801/out/extension.js:2:1216694)",
      "at /Users/Adarshr/.vscode/extensions/ms-toolsai.jupyter-2022.3.1000901801/out/extension.js:2:533674",
      "at t.swallowExceptions (/Users/Adarshr/.vscode/extensions/ms-toolsai.jupyter-2022.3.1000901801/out/extension.js:2:913059)",
      "at dispose (/Users/Adarshr/.vscode/extensions/ms-toolsai.jupyter-2022.3.1000901801/out/extension.js:2:533652)",
      "at t.RawSession.dispose (/Users/Adarshr/.vscode/extensions/ms-toolsai.jupyter-2022.3.1000901801/out/extension.js:2:537330)",
      "at runMicrotasks (<anonymous>)",
      "at processTicksAndRejections (node:internal/process/task_queues:96:5)"
     ]
    }
   ],
   "source": [
    "with open('data/3nurse5patientType0.txt') as f:\n",
    "    lines = f.readlines()\n",
    "    num_nurses, num_patients, num_patient_types = lines[0].split(' ')\n",
    "    num_nurses, num_patients, num_patient_types = int(num_nurses), int(num_patients), int(num_patient_types)\n",
    "\n",
    "    min_patients, max_patients = lines[1].split(' ')\n",
    "    min_patients, max_patients = int(min_patients), int(max_patients)\n",
    "\n",
    "    patient_types = lines[3].strip().split(' ')\n",
    "    patient_types = [int(x) for x in patient_types]\n",
    "\n",
    "    acuities = []\n",
    "    for i in range(num_nurses):\n",
    "        nurse_acuities = lines[5 + i].strip().split(' ')\n",
    "        acuities.append([int(x) for x in nurse_acuities])\n",
    "\n",
    "matcher1 = NursePatientMatcher(num_patients, num_nurses, max_patients, min_patients, patient_types, acuities)\n",
    "soln1 = matcher1.solve()"
   ]
  }
 ],
 "metadata": {
  "interpreter": {
   "hash": "738e21e1ab4246c4aef01f901d951588f8eec983650f945f5a9665cbb91cca43"
  },
  "kernelspec": {
   "display_name": "Python 3.9.10 64-bit ('3.9.10')",
   "language": "python",
   "name": "python3"
  },
  "language_info": {
   "codemirror_mode": {
    "name": "ipython",
    "version": 3
   },
   "file_extension": ".py",
   "mimetype": "text/x-python",
   "name": "python",
   "nbconvert_exporter": "python",
   "pygments_lexer": "ipython3",
   "version": "3.9.10"
  },
  "orig_nbformat": 4
 },
 "nbformat": 4,
 "nbformat_minor": 2
}
